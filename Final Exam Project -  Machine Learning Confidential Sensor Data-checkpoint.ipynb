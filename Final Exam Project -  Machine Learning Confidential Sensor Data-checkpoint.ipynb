{
 "cells": [
  {
   "cell_type": "markdown",
   "metadata": {},
   "source": [
    "<h1 style=\"text-align:center\">ISAT 480 Data Science and Machine Learning</h1>\n",
    "<img src = \"images/machine_learning.jpg\" style = \"align:center;width:300px;height:200px;\">\n",
    "<h2 style = \"text-align:center\">Final Exam Project -  Machine Learning Confidential Sensor Data</h2>\n",
    "<h4 style = \"text-align:center\">Chris Byron & Truvell Wilson</h4>"
   ]
  },
  {
   "cell_type": "markdown",
   "metadata": {},
   "source": [
    "<h3>Objectives</h3>\n",
    "\n",
    "<p>To demonstrate the ability to complete an end-to-end data science / machine learning project using real-world data by following andimplementing the main machine learning checklist steps that lead to a solution, namely:</p> \n",
    "\n",
    "<ul>\n",
    "    <li>Frame the problem and look at the big picture</li>\n",
    "    <li>Get the data</li>\n",
    "    <li>Explore the data to gain insights</li>\n",
    "    <li>Prepare the data to expose the underlying data patterns to Machine Learning Algorithms</li>\n",
    "    <li>Explore many different methods and short-list the best ones</li>\n",
    "    <li>Fine tune your models and combine them into a great solution</li>\n",
    "    <li>Present your solution</li>\n",
    "    <li>Launch, monitor, and maintain your system</li>\n",
    "</ul>\n",
    "\n",
    "<h3 style = \"color:red\">Frame the Problem</h3>\n",
    "\n",
    "<img src = \"images/sensor_array.jpg\" style = \"align:center;width:400px;height:200px\">\n",
    "\n",
    "<h3>Sensor the Data</h3>\n",
    "\n",
    "<p>The data source as well as the exact nature of the data is confidential. Each data instance contains 12 real-valued input attributes. Each input attribute represents a sensor designed to detect the presence of one of two groups of substances. As an alternative, the sensorreadings may represent a 'false alarm'.</p>\n",
    "\n",
    "<ul>\n",
    "    <li>Substance 1 is represented by the value \"one\" in the class attribute column</li>\n",
    "    <li>Substance 2 is represented by the value \"two\" in the class attribute column</li>\n",
    "    <li>Substance 3 is represented by the value \"three\" in the class attribute column</li>\n",
    "</ul>\n",
    "\n",
    "<p>The problem is framed as a <strong>supervised learning</strong> problem: Predict the class of a substance from sensor data using the givenmeasurements in the dataset.</p>\n",
    "\n",
    "\n",
    "<h3 style = \"color:red;text-align:center;\">Project Analysis</h3>"
   ]
  },
  {
   "cell_type": "code",
   "execution_count": 90,
   "metadata": {},
   "outputs": [],
   "source": [
    "#import necessary packages\n",
    "%matplotlib inline\n",
    "import matplotlib.pyplot as plt\n",
    "import numpy as np\n",
    "import pandas as pd\n",
    "np.set_printoptions(precision=3, suppress=True)"
   ]
  },
  {
   "cell_type": "markdown",
   "metadata": {},
   "source": [
    "<h3 style = \"color:green;text-align:center\">Exploratory Data Analysis</h3>\n",
    "\n",
    "<p><strong>1) TO DO: Use pandas to load your data into your dataframe.</strong></p>\n",
    "<p>Display first ten rows after you load the data.</p>"
   ]
  },
  {
   "cell_type": "code",
   "execution_count": 91,
   "metadata": {
    "scrolled": true
   },
   "outputs": [
    {
     "data": {
      "text/html": [
       "<div>\n",
       "<style scoped>\n",
       "    .dataframe tbody tr th:only-of-type {\n",
       "        vertical-align: middle;\n",
       "    }\n",
       "\n",
       "    .dataframe tbody tr th {\n",
       "        vertical-align: top;\n",
       "    }\n",
       "\n",
       "    .dataframe thead th {\n",
       "        text-align: right;\n",
       "    }\n",
       "</style>\n",
       "<table border=\"1\" class=\"dataframe\">\n",
       "  <thead>\n",
       "    <tr style=\"text-align: right;\">\n",
       "      <th></th>\n",
       "      <th>Input 1</th>\n",
       "      <th>Input 2</th>\n",
       "      <th>Input 3</th>\n",
       "      <th>Input 4</th>\n",
       "      <th>Input 5</th>\n",
       "      <th>Input 6</th>\n",
       "      <th>Input 7</th>\n",
       "      <th>Input 8</th>\n",
       "      <th>Input 9</th>\n",
       "      <th>Input 10</th>\n",
       "      <th>Input 11</th>\n",
       "      <th>Input 12</th>\n",
       "      <th>class</th>\n",
       "    </tr>\n",
       "  </thead>\n",
       "  <tbody>\n",
       "    <tr>\n",
       "      <td>0</td>\n",
       "      <td>4.406</td>\n",
       "      <td>0.6116</td>\n",
       "      <td>5.691</td>\n",
       "      <td>5.906</td>\n",
       "      <td>1.763</td>\n",
       "      <td>2.726</td>\n",
       "      <td>0.9607</td>\n",
       "      <td>0.6055</td>\n",
       "      <td>1.859</td>\n",
       "      <td>5.083</td>\n",
       "      <td>5.503</td>\n",
       "      <td>0.7544</td>\n",
       "      <td>one</td>\n",
       "    </tr>\n",
       "    <tr>\n",
       "      <td>1</td>\n",
       "      <td>4.680</td>\n",
       "      <td>0.5322</td>\n",
       "      <td>5.461</td>\n",
       "      <td>5.923</td>\n",
       "      <td>1.589</td>\n",
       "      <td>2.799</td>\n",
       "      <td>0.9937</td>\n",
       "      <td>0.6250</td>\n",
       "      <td>1.821</td>\n",
       "      <td>5.099</td>\n",
       "      <td>5.601</td>\n",
       "      <td>0.9546</td>\n",
       "      <td>one</td>\n",
       "    </tr>\n",
       "    <tr>\n",
       "      <td>2</td>\n",
       "      <td>4.738</td>\n",
       "      <td>0.5298</td>\n",
       "      <td>5.680</td>\n",
       "      <td>5.916</td>\n",
       "      <td>1.844</td>\n",
       "      <td>2.798</td>\n",
       "      <td>1.0280</td>\n",
       "      <td>0.6238</td>\n",
       "      <td>1.759</td>\n",
       "      <td>5.127</td>\n",
       "      <td>5.535</td>\n",
       "      <td>0.7275</td>\n",
       "      <td>one</td>\n",
       "    </tr>\n",
       "    <tr>\n",
       "      <td>3</td>\n",
       "      <td>4.503</td>\n",
       "      <td>0.5273</td>\n",
       "      <td>5.703</td>\n",
       "      <td>-9999.000</td>\n",
       "      <td>1.711</td>\n",
       "      <td>2.856</td>\n",
       "      <td>1.1500</td>\n",
       "      <td>0.6201</td>\n",
       "      <td>1.736</td>\n",
       "      <td>5.094</td>\n",
       "      <td>5.452</td>\n",
       "      <td>0.7690</td>\n",
       "      <td>one</td>\n",
       "    </tr>\n",
       "    <tr>\n",
       "      <td>4</td>\n",
       "      <td>4.744</td>\n",
       "      <td>0.5884</td>\n",
       "      <td>5.532</td>\n",
       "      <td>5.911</td>\n",
       "      <td>1.792</td>\n",
       "      <td>2.886</td>\n",
       "      <td>1.0310</td>\n",
       "      <td>0.5627</td>\n",
       "      <td>1.868</td>\n",
       "      <td>4.989</td>\n",
       "      <td>5.382</td>\n",
       "      <td>0.6665</td>\n",
       "      <td>one</td>\n",
       "    </tr>\n",
       "    <tr>\n",
       "      <td>5</td>\n",
       "      <td>4.524</td>\n",
       "      <td>0.6311</td>\n",
       "      <td>5.773</td>\n",
       "      <td>5.822</td>\n",
       "      <td>1.803</td>\n",
       "      <td>2.800</td>\n",
       "      <td>1.0490</td>\n",
       "      <td>0.6836</td>\n",
       "      <td>1.885</td>\n",
       "      <td>5.100</td>\n",
       "      <td>5.479</td>\n",
       "      <td>0.6958</td>\n",
       "      <td>one</td>\n",
       "    </tr>\n",
       "    <tr>\n",
       "      <td>6</td>\n",
       "      <td>4.570</td>\n",
       "      <td>0.4834</td>\n",
       "      <td>5.804</td>\n",
       "      <td>5.887</td>\n",
       "      <td>1.708</td>\n",
       "      <td>2.894</td>\n",
       "      <td>1.0830</td>\n",
       "      <td>0.4919</td>\n",
       "      <td>1.807</td>\n",
       "      <td>5.062</td>\n",
       "      <td>5.336</td>\n",
       "      <td>0.8447</td>\n",
       "      <td>one</td>\n",
       "    </tr>\n",
       "    <tr>\n",
       "      <td>7</td>\n",
       "      <td>4.489</td>\n",
       "      <td>0.5054</td>\n",
       "      <td>5.790</td>\n",
       "      <td>5.900</td>\n",
       "      <td>1.849</td>\n",
       "      <td>2.919</td>\n",
       "      <td>0.9082</td>\n",
       "      <td>0.6055</td>\n",
       "      <td>1.809</td>\n",
       "      <td>5.216</td>\n",
       "      <td>5.555</td>\n",
       "      <td>0.6897</td>\n",
       "      <td>one</td>\n",
       "    </tr>\n",
       "    <tr>\n",
       "      <td>8</td>\n",
       "      <td>4.503</td>\n",
       "      <td>0.6091</td>\n",
       "      <td>5.686</td>\n",
       "      <td>5.892</td>\n",
       "      <td>1.714</td>\n",
       "      <td>2.822</td>\n",
       "      <td>1.0300</td>\n",
       "      <td>0.6079</td>\n",
       "      <td>1.840</td>\n",
       "      <td>5.001</td>\n",
       "      <td>5.360</td>\n",
       "      <td>0.9521</td>\n",
       "      <td>one</td>\n",
       "    </tr>\n",
       "    <tr>\n",
       "      <td>9</td>\n",
       "      <td>4.425</td>\n",
       "      <td>0.6091</td>\n",
       "      <td>5.732</td>\n",
       "      <td>5.912</td>\n",
       "      <td>1.793</td>\n",
       "      <td>2.726</td>\n",
       "      <td>1.0950</td>\n",
       "      <td>0.6104</td>\n",
       "      <td>1.749</td>\n",
       "      <td>5.020</td>\n",
       "      <td>5.514</td>\n",
       "      <td>0.8081</td>\n",
       "      <td>one</td>\n",
       "    </tr>\n",
       "  </tbody>\n",
       "</table>\n",
       "</div>"
      ],
      "text/plain": [
       "   Input 1  Input 2  Input 3   Input 4  Input 5  Input 6  Input 7  Input 8  \\\n",
       "0    4.406   0.6116    5.691     5.906    1.763    2.726   0.9607   0.6055   \n",
       "1    4.680   0.5322    5.461     5.923    1.589    2.799   0.9937   0.6250   \n",
       "2    4.738   0.5298    5.680     5.916    1.844    2.798   1.0280   0.6238   \n",
       "3    4.503   0.5273    5.703 -9999.000    1.711    2.856   1.1500   0.6201   \n",
       "4    4.744   0.5884    5.532     5.911    1.792    2.886   1.0310   0.5627   \n",
       "5    4.524   0.6311    5.773     5.822    1.803    2.800   1.0490   0.6836   \n",
       "6    4.570   0.4834    5.804     5.887    1.708    2.894   1.0830   0.4919   \n",
       "7    4.489   0.5054    5.790     5.900    1.849    2.919   0.9082   0.6055   \n",
       "8    4.503   0.6091    5.686     5.892    1.714    2.822   1.0300   0.6079   \n",
       "9    4.425   0.6091    5.732     5.912    1.793    2.726   1.0950   0.6104   \n",
       "\n",
       "   Input 9  Input 10   Input 11   Input 12 class  \n",
       "0    1.859      5.083      5.503    0.7544   one  \n",
       "1    1.821      5.099      5.601    0.9546   one  \n",
       "2    1.759      5.127      5.535    0.7275   one  \n",
       "3    1.736      5.094      5.452    0.7690   one  \n",
       "4    1.868      4.989      5.382    0.6665   one  \n",
       "5    1.885      5.100      5.479    0.6958   one  \n",
       "6    1.807      5.062      5.336    0.8447   one  \n",
       "7    1.809      5.216      5.555    0.6897   one  \n",
       "8    1.840      5.001      5.360    0.9521   one  \n",
       "9    1.749      5.020      5.514    0.8081   one  "
      ]
     },
     "execution_count": 91,
     "metadata": {},
     "output_type": "execute_result"
    }
   ],
   "source": [
    "df = pd.read_csv('Sensor_Data_Confidential_341Project_DataSet7.csv')\n",
    "\n",
    "df.head(10)"
   ]
  },
  {
   "cell_type": "markdown",
   "metadata": {},
   "source": [
    "<p><strong>2) TO DO:  Use the dataframe describe method dataframe.describe() to display some summarystatistics.</strong></p>"
   ]
  },
  {
   "cell_type": "code",
   "execution_count": 92,
   "metadata": {},
   "outputs": [
    {
     "data": {
      "text/html": [
       "<div>\n",
       "<style scoped>\n",
       "    .dataframe tbody tr th:only-of-type {\n",
       "        vertical-align: middle;\n",
       "    }\n",
       "\n",
       "    .dataframe tbody tr th {\n",
       "        vertical-align: top;\n",
       "    }\n",
       "\n",
       "    .dataframe thead th {\n",
       "        text-align: right;\n",
       "    }\n",
       "</style>\n",
       "<table border=\"1\" class=\"dataframe\">\n",
       "  <thead>\n",
       "    <tr style=\"text-align: right;\">\n",
       "      <th></th>\n",
       "      <th>Input 1</th>\n",
       "      <th>Input 2</th>\n",
       "      <th>Input 3</th>\n",
       "      <th>Input 4</th>\n",
       "      <th>Input 5</th>\n",
       "      <th>Input 6</th>\n",
       "      <th>Input 7</th>\n",
       "      <th>Input 8</th>\n",
       "      <th>Input 9</th>\n",
       "      <th>Input 10</th>\n",
       "      <th>Input 11</th>\n",
       "      <th>Input 12</th>\n",
       "    </tr>\n",
       "  </thead>\n",
       "  <tbody>\n",
       "    <tr>\n",
       "      <td>count</td>\n",
       "      <td>1666.000000</td>\n",
       "      <td>1666.000000</td>\n",
       "      <td>1666.000000</td>\n",
       "      <td>1666.000000</td>\n",
       "      <td>1666.000000</td>\n",
       "      <td>1666.000000</td>\n",
       "      <td>1666.000000</td>\n",
       "      <td>1666.000000</td>\n",
       "      <td>1666.000000</td>\n",
       "      <td>1666.000000</td>\n",
       "      <td>1666.000000</td>\n",
       "      <td>1666.000000</td>\n",
       "    </tr>\n",
       "    <tr>\n",
       "      <td>mean</td>\n",
       "      <td>-134.420804</td>\n",
       "      <td>-118.114677</td>\n",
       "      <td>-109.102194</td>\n",
       "      <td>-91.399119</td>\n",
       "      <td>-125.040359</td>\n",
       "      <td>-130.537302</td>\n",
       "      <td>-77.319851</td>\n",
       "      <td>-125.663162</td>\n",
       "      <td>-95.131987</td>\n",
       "      <td>-75.160382</td>\n",
       "      <td>-88.122777</td>\n",
       "      <td>-63.045762</td>\n",
       "    </tr>\n",
       "    <tr>\n",
       "      <td>std</td>\n",
       "      <td>1167.492978</td>\n",
       "      <td>1089.498394</td>\n",
       "      <td>1062.557232</td>\n",
       "      <td>975.926752</td>\n",
       "      <td>1115.959694</td>\n",
       "      <td>1141.932576</td>\n",
       "      <td>880.138338</td>\n",
       "      <td>1115.889116</td>\n",
       "      <td>975.558523</td>\n",
       "      <td>880.331222</td>\n",
       "      <td>944.963450</td>\n",
       "      <td>810.287385</td>\n",
       "    </tr>\n",
       "    <tr>\n",
       "      <td>min</td>\n",
       "      <td>-9999.000000</td>\n",
       "      <td>-9999.000000</td>\n",
       "      <td>-9999.000000</td>\n",
       "      <td>-9999.000000</td>\n",
       "      <td>-9999.000000</td>\n",
       "      <td>-9999.000000</td>\n",
       "      <td>-9999.000000</td>\n",
       "      <td>-9999.000000</td>\n",
       "      <td>-9999.000000</td>\n",
       "      <td>-9999.000000</td>\n",
       "      <td>-9999.000000</td>\n",
       "      <td>-9999.000000</td>\n",
       "    </tr>\n",
       "    <tr>\n",
       "      <td>25%</td>\n",
       "      <td>3.018500</td>\n",
       "      <td>0.820300</td>\n",
       "      <td>4.783250</td>\n",
       "      <td>3.479500</td>\n",
       "      <td>0.408900</td>\n",
       "      <td>0.600275</td>\n",
       "      <td>0.278300</td>\n",
       "      <td>0.181900</td>\n",
       "      <td>0.394000</td>\n",
       "      <td>1.420000</td>\n",
       "      <td>1.130000</td>\n",
       "      <td>0.764200</td>\n",
       "    </tr>\n",
       "    <tr>\n",
       "      <td>50%</td>\n",
       "      <td>4.073000</td>\n",
       "      <td>1.522500</td>\n",
       "      <td>5.340500</td>\n",
       "      <td>5.094500</td>\n",
       "      <td>0.795300</td>\n",
       "      <td>1.578000</td>\n",
       "      <td>0.523100</td>\n",
       "      <td>0.300300</td>\n",
       "      <td>0.728750</td>\n",
       "      <td>2.192000</td>\n",
       "      <td>1.345000</td>\n",
       "      <td>1.029000</td>\n",
       "    </tr>\n",
       "    <tr>\n",
       "      <td>75%</td>\n",
       "      <td>4.508000</td>\n",
       "      <td>3.122250</td>\n",
       "      <td>5.599000</td>\n",
       "      <td>5.649000</td>\n",
       "      <td>1.461250</td>\n",
       "      <td>2.177750</td>\n",
       "      <td>0.965600</td>\n",
       "      <td>0.504475</td>\n",
       "      <td>1.233000</td>\n",
       "      <td>4.968000</td>\n",
       "      <td>1.907500</td>\n",
       "      <td>5.337750</td>\n",
       "    </tr>\n",
       "    <tr>\n",
       "      <td>max</td>\n",
       "      <td>5.105000</td>\n",
       "      <td>4.675000</td>\n",
       "      <td>5.944000</td>\n",
       "      <td>6.011000</td>\n",
       "      <td>2.571000</td>\n",
       "      <td>3.638000</td>\n",
       "      <td>2.446000</td>\n",
       "      <td>1.199000</td>\n",
       "      <td>2.278000</td>\n",
       "      <td>5.312000</td>\n",
       "      <td>5.640000</td>\n",
       "      <td>5.825000</td>\n",
       "    </tr>\n",
       "  </tbody>\n",
       "</table>\n",
       "</div>"
      ],
      "text/plain": [
       "           Input 1      Input 2      Input 3      Input 4      Input 5  \\\n",
       "count  1666.000000  1666.000000  1666.000000  1666.000000  1666.000000   \n",
       "mean   -134.420804  -118.114677  -109.102194   -91.399119  -125.040359   \n",
       "std    1167.492978  1089.498394  1062.557232   975.926752  1115.959694   \n",
       "min   -9999.000000 -9999.000000 -9999.000000 -9999.000000 -9999.000000   \n",
       "25%       3.018500     0.820300     4.783250     3.479500     0.408900   \n",
       "50%       4.073000     1.522500     5.340500     5.094500     0.795300   \n",
       "75%       4.508000     3.122250     5.599000     5.649000     1.461250   \n",
       "max       5.105000     4.675000     5.944000     6.011000     2.571000   \n",
       "\n",
       "           Input 6      Input 7      Input 8      Input 9    Input 10   \\\n",
       "count  1666.000000  1666.000000  1666.000000  1666.000000  1666.000000   \n",
       "mean   -130.537302   -77.319851  -125.663162   -95.131987   -75.160382   \n",
       "std    1141.932576   880.138338  1115.889116   975.558523   880.331222   \n",
       "min   -9999.000000 -9999.000000 -9999.000000 -9999.000000 -9999.000000   \n",
       "25%       0.600275     0.278300     0.181900     0.394000     1.420000   \n",
       "50%       1.578000     0.523100     0.300300     0.728750     2.192000   \n",
       "75%       2.177750     0.965600     0.504475     1.233000     4.968000   \n",
       "max       3.638000     2.446000     1.199000     2.278000     5.312000   \n",
       "\n",
       "         Input 11      Input 12  \n",
       "count  1666.000000  1666.000000  \n",
       "mean    -88.122777   -63.045762  \n",
       "std     944.963450   810.287385  \n",
       "min   -9999.000000 -9999.000000  \n",
       "25%       1.130000     0.764200  \n",
       "50%       1.345000     1.029000  \n",
       "75%       1.907500     5.337750  \n",
       "max       5.640000     5.825000  "
      ]
     },
     "execution_count": 92,
     "metadata": {},
     "output_type": "execute_result"
    }
   ],
   "source": [
    "df.describe()"
   ]
  },
  {
   "cell_type": "markdown",
   "metadata": {},
   "source": [
    "<h3 style=\"color:red\">Comments on above summary</h3>\n",
    "\n",
    "<p><em>Examine the data and note that when a sensor temporarily goes offline, it records a BAD data value of -9999.</em> This can be seen in theminimum recorded values for each sensor. Before we continue our preliminary data analysis, this bad data must be removed.</p>\n",
    "\n",
    "<p>You should also take note of the <strong>count, mean, standard deviation</strong> and the <strong>maximum</strong> data values for each sensor. The bad data value recordings when the senors go offline have a large impact on these simple descriptive statistical summaries. Also, the wide range of thedata values will require some sort of scaling of the data before training a machine learing model.</p>\n",
    "\n",
    "<p>Finally, the class labels are not numeric but are strings ('one', 'two' and 'three') that we call categorical class labels. We will need toconvert them to integers before we feed them to a classifier.</p>\n",
    "\n",
    "<h3 style = \"color:green\">Data Cleansing</h3>\n",
    "\n",
    "<p><strong>3) TO DO: Display the shape of your dataframe in the cell below</strong></p>"
   ]
  },
  {
   "cell_type": "code",
   "execution_count": 93,
   "metadata": {},
   "outputs": [
    {
     "data": {
      "text/plain": [
       "(1666, 13)"
      ]
     },
     "execution_count": 93,
     "metadata": {},
     "output_type": "execute_result"
    }
   ],
   "source": [
    "df.shape"
   ]
  },
  {
   "cell_type": "markdown",
   "metadata": {},
   "source": [
    "<p><strong>4) TO DO: Use Pandas dataframe to find bad or missing data</strong></p>\n",
    "\n",
    "<p>The bad data can be located and replaced using pandas and numpy. In the cell below, use code to find and replace the bad data (-9999 values) with numpy nan values (nan means <em>not a number</em>). Then use the dataframe to drop the rows with the nan signatures. This maysignificantly reduce your dataset size so you should display the shape of the data to see its new size. Also, again, display the first tenrows of the data with the dataframe.</p>\n",
    "\n",
    "<ul>\n",
    "    <li><strong>Enter the code in the cell below to implement the drop, replace and display</strong></li>\n",
    "    <li><strong>Enter your code in the cell immediately following the output of the dataframe to show the new shape of the data in the dataframe.</strong></li>\n",
    "</ul>"
   ]
  },
  {
   "cell_type": "code",
   "execution_count": 94,
   "metadata": {
    "scrolled": true
   },
   "outputs": [
    {
     "data": {
      "text/html": [
       "<div>\n",
       "<style scoped>\n",
       "    .dataframe tbody tr th:only-of-type {\n",
       "        vertical-align: middle;\n",
       "    }\n",
       "\n",
       "    .dataframe tbody tr th {\n",
       "        vertical-align: top;\n",
       "    }\n",
       "\n",
       "    .dataframe thead th {\n",
       "        text-align: right;\n",
       "    }\n",
       "</style>\n",
       "<table border=\"1\" class=\"dataframe\">\n",
       "  <thead>\n",
       "    <tr style=\"text-align: right;\">\n",
       "      <th></th>\n",
       "      <th>Input 1</th>\n",
       "      <th>Input 2</th>\n",
       "      <th>Input 3</th>\n",
       "      <th>Input 4</th>\n",
       "      <th>Input 5</th>\n",
       "      <th>Input 6</th>\n",
       "      <th>Input 7</th>\n",
       "      <th>Input 8</th>\n",
       "      <th>Input 9</th>\n",
       "      <th>Input 10</th>\n",
       "      <th>Input 11</th>\n",
       "      <th>Input 12</th>\n",
       "      <th>class</th>\n",
       "    </tr>\n",
       "  </thead>\n",
       "  <tbody>\n",
       "    <tr>\n",
       "      <td>0</td>\n",
       "      <td>4.406</td>\n",
       "      <td>0.6116</td>\n",
       "      <td>5.691</td>\n",
       "      <td>5.906</td>\n",
       "      <td>1.763</td>\n",
       "      <td>2.726</td>\n",
       "      <td>0.9607</td>\n",
       "      <td>0.6055</td>\n",
       "      <td>1.859</td>\n",
       "      <td>5.083</td>\n",
       "      <td>5.503</td>\n",
       "      <td>0.7544</td>\n",
       "      <td>one</td>\n",
       "    </tr>\n",
       "    <tr>\n",
       "      <td>1</td>\n",
       "      <td>4.680</td>\n",
       "      <td>0.5322</td>\n",
       "      <td>5.461</td>\n",
       "      <td>5.923</td>\n",
       "      <td>1.589</td>\n",
       "      <td>2.799</td>\n",
       "      <td>0.9937</td>\n",
       "      <td>0.6250</td>\n",
       "      <td>1.821</td>\n",
       "      <td>5.099</td>\n",
       "      <td>5.601</td>\n",
       "      <td>0.9546</td>\n",
       "      <td>one</td>\n",
       "    </tr>\n",
       "    <tr>\n",
       "      <td>2</td>\n",
       "      <td>4.738</td>\n",
       "      <td>0.5298</td>\n",
       "      <td>5.680</td>\n",
       "      <td>5.916</td>\n",
       "      <td>1.844</td>\n",
       "      <td>2.798</td>\n",
       "      <td>1.0280</td>\n",
       "      <td>0.6238</td>\n",
       "      <td>1.759</td>\n",
       "      <td>5.127</td>\n",
       "      <td>5.535</td>\n",
       "      <td>0.7275</td>\n",
       "      <td>one</td>\n",
       "    </tr>\n",
       "    <tr>\n",
       "      <td>4</td>\n",
       "      <td>4.744</td>\n",
       "      <td>0.5884</td>\n",
       "      <td>5.532</td>\n",
       "      <td>5.911</td>\n",
       "      <td>1.792</td>\n",
       "      <td>2.886</td>\n",
       "      <td>1.0310</td>\n",
       "      <td>0.5627</td>\n",
       "      <td>1.868</td>\n",
       "      <td>4.989</td>\n",
       "      <td>5.382</td>\n",
       "      <td>0.6665</td>\n",
       "      <td>one</td>\n",
       "    </tr>\n",
       "    <tr>\n",
       "      <td>5</td>\n",
       "      <td>4.524</td>\n",
       "      <td>0.6311</td>\n",
       "      <td>5.773</td>\n",
       "      <td>5.822</td>\n",
       "      <td>1.803</td>\n",
       "      <td>2.800</td>\n",
       "      <td>1.0490</td>\n",
       "      <td>0.6836</td>\n",
       "      <td>1.885</td>\n",
       "      <td>5.100</td>\n",
       "      <td>5.479</td>\n",
       "      <td>0.6958</td>\n",
       "      <td>one</td>\n",
       "    </tr>\n",
       "    <tr>\n",
       "      <td>6</td>\n",
       "      <td>4.570</td>\n",
       "      <td>0.4834</td>\n",
       "      <td>5.804</td>\n",
       "      <td>5.887</td>\n",
       "      <td>1.708</td>\n",
       "      <td>2.894</td>\n",
       "      <td>1.0830</td>\n",
       "      <td>0.4919</td>\n",
       "      <td>1.807</td>\n",
       "      <td>5.062</td>\n",
       "      <td>5.336</td>\n",
       "      <td>0.8447</td>\n",
       "      <td>one</td>\n",
       "    </tr>\n",
       "    <tr>\n",
       "      <td>7</td>\n",
       "      <td>4.489</td>\n",
       "      <td>0.5054</td>\n",
       "      <td>5.790</td>\n",
       "      <td>5.900</td>\n",
       "      <td>1.849</td>\n",
       "      <td>2.919</td>\n",
       "      <td>0.9082</td>\n",
       "      <td>0.6055</td>\n",
       "      <td>1.809</td>\n",
       "      <td>5.216</td>\n",
       "      <td>5.555</td>\n",
       "      <td>0.6897</td>\n",
       "      <td>one</td>\n",
       "    </tr>\n",
       "    <tr>\n",
       "      <td>8</td>\n",
       "      <td>4.503</td>\n",
       "      <td>0.6091</td>\n",
       "      <td>5.686</td>\n",
       "      <td>5.892</td>\n",
       "      <td>1.714</td>\n",
       "      <td>2.822</td>\n",
       "      <td>1.0300</td>\n",
       "      <td>0.6079</td>\n",
       "      <td>1.840</td>\n",
       "      <td>5.001</td>\n",
       "      <td>5.360</td>\n",
       "      <td>0.9521</td>\n",
       "      <td>one</td>\n",
       "    </tr>\n",
       "    <tr>\n",
       "      <td>9</td>\n",
       "      <td>4.425</td>\n",
       "      <td>0.6091</td>\n",
       "      <td>5.732</td>\n",
       "      <td>5.912</td>\n",
       "      <td>1.793</td>\n",
       "      <td>2.726</td>\n",
       "      <td>1.0950</td>\n",
       "      <td>0.6104</td>\n",
       "      <td>1.749</td>\n",
       "      <td>5.020</td>\n",
       "      <td>5.514</td>\n",
       "      <td>0.8081</td>\n",
       "      <td>one</td>\n",
       "    </tr>\n",
       "    <tr>\n",
       "      <td>10</td>\n",
       "      <td>4.534</td>\n",
       "      <td>0.6287</td>\n",
       "      <td>5.411</td>\n",
       "      <td>5.896</td>\n",
       "      <td>1.760</td>\n",
       "      <td>3.008</td>\n",
       "      <td>1.1160</td>\n",
       "      <td>0.6116</td>\n",
       "      <td>1.854</td>\n",
       "      <td>4.971</td>\n",
       "      <td>5.503</td>\n",
       "      <td>0.7507</td>\n",
       "      <td>one</td>\n",
       "    </tr>\n",
       "  </tbody>\n",
       "</table>\n",
       "</div>"
      ],
      "text/plain": [
       "    Input 1  Input 2  Input 3  Input 4  Input 5  Input 6  Input 7  Input 8  \\\n",
       "0     4.406   0.6116    5.691    5.906    1.763    2.726   0.9607   0.6055   \n",
       "1     4.680   0.5322    5.461    5.923    1.589    2.799   0.9937   0.6250   \n",
       "2     4.738   0.5298    5.680    5.916    1.844    2.798   1.0280   0.6238   \n",
       "4     4.744   0.5884    5.532    5.911    1.792    2.886   1.0310   0.5627   \n",
       "5     4.524   0.6311    5.773    5.822    1.803    2.800   1.0490   0.6836   \n",
       "6     4.570   0.4834    5.804    5.887    1.708    2.894   1.0830   0.4919   \n",
       "7     4.489   0.5054    5.790    5.900    1.849    2.919   0.9082   0.6055   \n",
       "8     4.503   0.6091    5.686    5.892    1.714    2.822   1.0300   0.6079   \n",
       "9     4.425   0.6091    5.732    5.912    1.793    2.726   1.0950   0.6104   \n",
       "10    4.534   0.6287    5.411    5.896    1.760    3.008   1.1160   0.6116   \n",
       "\n",
       "    Input 9  Input 10   Input 11   Input 12 class  \n",
       "0     1.859      5.083      5.503    0.7544   one  \n",
       "1     1.821      5.099      5.601    0.9546   one  \n",
       "2     1.759      5.127      5.535    0.7275   one  \n",
       "4     1.868      4.989      5.382    0.6665   one  \n",
       "5     1.885      5.100      5.479    0.6958   one  \n",
       "6     1.807      5.062      5.336    0.8447   one  \n",
       "7     1.809      5.216      5.555    0.6897   one  \n",
       "8     1.840      5.001      5.360    0.9521   one  \n",
       "9     1.749      5.020      5.514    0.8081   one  \n",
       "10    1.854      4.971      5.503    0.7507   one  "
      ]
     },
     "execution_count": 94,
     "metadata": {},
     "output_type": "execute_result"
    }
   ],
   "source": [
    "data = df.replace(-9999,np.nan).dropna(how = 'any')\n",
    "\n",
    "data.head(10)"
   ]
  },
  {
   "cell_type": "code",
   "execution_count": 95,
   "metadata": {},
   "outputs": [
    {
     "data": {
      "text/plain": [
       "(1463, 13)"
      ]
     },
     "execution_count": 95,
     "metadata": {},
     "output_type": "execute_result"
    }
   ],
   "source": [
    "#Shape of the data after the cleaning\n",
    "data.shape"
   ]
  },
  {
   "cell_type": "markdown",
   "metadata": {},
   "source": [
    "<p><strong>5) TO DO: Use pandas correlation method to find the two features (inputs) with the highestcorrelation</strong></p>\n",
    "\n",
    "<p>Enter your answers in the cell immediately following the output correlation table</p>"
   ]
  },
  {
   "cell_type": "code",
   "execution_count": 96,
   "metadata": {},
   "outputs": [
    {
     "data": {
      "text/html": [
       "<div>\n",
       "<style scoped>\n",
       "    .dataframe tbody tr th:only-of-type {\n",
       "        vertical-align: middle;\n",
       "    }\n",
       "\n",
       "    .dataframe tbody tr th {\n",
       "        vertical-align: top;\n",
       "    }\n",
       "\n",
       "    .dataframe thead th {\n",
       "        text-align: right;\n",
       "    }\n",
       "</style>\n",
       "<table border=\"1\" class=\"dataframe\">\n",
       "  <thead>\n",
       "    <tr style=\"text-align: right;\">\n",
       "      <th></th>\n",
       "      <th>Input 1</th>\n",
       "      <th>Input 2</th>\n",
       "      <th>Input 3</th>\n",
       "      <th>Input 4</th>\n",
       "      <th>Input 5</th>\n",
       "      <th>Input 6</th>\n",
       "      <th>Input 7</th>\n",
       "      <th>Input 8</th>\n",
       "      <th>Input 9</th>\n",
       "      <th>Input 10</th>\n",
       "      <th>Input 11</th>\n",
       "      <th>Input 12</th>\n",
       "    </tr>\n",
       "  </thead>\n",
       "  <tbody>\n",
       "    <tr>\n",
       "      <td>Input 1</td>\n",
       "      <td>1.000000</td>\n",
       "      <td>-0.572129</td>\n",
       "      <td>0.939954</td>\n",
       "      <td>0.950208</td>\n",
       "      <td>0.775150</td>\n",
       "      <td>0.894622</td>\n",
       "      <td>0.700969</td>\n",
       "      <td>0.687356</td>\n",
       "      <td>0.773260</td>\n",
       "      <td>0.730804</td>\n",
       "      <td>0.486260</td>\n",
       "      <td>-0.425539</td>\n",
       "    </tr>\n",
       "    <tr>\n",
       "      <td>Input 2</td>\n",
       "      <td>-0.572129</td>\n",
       "      <td>1.000000</td>\n",
       "      <td>-0.523798</td>\n",
       "      <td>-0.542286</td>\n",
       "      <td>-0.474648</td>\n",
       "      <td>-0.662293</td>\n",
       "      <td>-0.468049</td>\n",
       "      <td>-0.488811</td>\n",
       "      <td>-0.502784</td>\n",
       "      <td>-0.469200</td>\n",
       "      <td>-0.376060</td>\n",
       "      <td>0.135722</td>\n",
       "    </tr>\n",
       "    <tr>\n",
       "      <td>Input 3</td>\n",
       "      <td>0.939954</td>\n",
       "      <td>-0.523798</td>\n",
       "      <td>1.000000</td>\n",
       "      <td>0.893738</td>\n",
       "      <td>0.667783</td>\n",
       "      <td>0.823420</td>\n",
       "      <td>0.598575</td>\n",
       "      <td>0.588904</td>\n",
       "      <td>0.676809</td>\n",
       "      <td>0.639960</td>\n",
       "      <td>0.422647</td>\n",
       "      <td>-0.407844</td>\n",
       "    </tr>\n",
       "    <tr>\n",
       "      <td>Input 4</td>\n",
       "      <td>0.950208</td>\n",
       "      <td>-0.542286</td>\n",
       "      <td>0.893738</td>\n",
       "      <td>1.000000</td>\n",
       "      <td>0.817663</td>\n",
       "      <td>0.877718</td>\n",
       "      <td>0.728996</td>\n",
       "      <td>0.727916</td>\n",
       "      <td>0.826244</td>\n",
       "      <td>0.795714</td>\n",
       "      <td>0.534825</td>\n",
       "      <td>-0.367517</td>\n",
       "    </tr>\n",
       "    <tr>\n",
       "      <td>Input 5</td>\n",
       "      <td>0.775150</td>\n",
       "      <td>-0.474648</td>\n",
       "      <td>0.667783</td>\n",
       "      <td>0.817663</td>\n",
       "      <td>1.000000</td>\n",
       "      <td>0.870063</td>\n",
       "      <td>0.926586</td>\n",
       "      <td>0.917741</td>\n",
       "      <td>0.977178</td>\n",
       "      <td>0.891651</td>\n",
       "      <td>0.693503</td>\n",
       "      <td>-0.346663</td>\n",
       "    </tr>\n",
       "    <tr>\n",
       "      <td>Input 6</td>\n",
       "      <td>0.894622</td>\n",
       "      <td>-0.662293</td>\n",
       "      <td>0.823420</td>\n",
       "      <td>0.877718</td>\n",
       "      <td>0.870063</td>\n",
       "      <td>1.000000</td>\n",
       "      <td>0.780521</td>\n",
       "      <td>0.775963</td>\n",
       "      <td>0.878146</td>\n",
       "      <td>0.829034</td>\n",
       "      <td>0.689591</td>\n",
       "      <td>-0.418134</td>\n",
       "    </tr>\n",
       "    <tr>\n",
       "      <td>Input 7</td>\n",
       "      <td>0.700969</td>\n",
       "      <td>-0.468049</td>\n",
       "      <td>0.598575</td>\n",
       "      <td>0.728996</td>\n",
       "      <td>0.926586</td>\n",
       "      <td>0.780521</td>\n",
       "      <td>1.000000</td>\n",
       "      <td>0.954663</td>\n",
       "      <td>0.881863</td>\n",
       "      <td>0.818400</td>\n",
       "      <td>0.524209</td>\n",
       "      <td>-0.435386</td>\n",
       "    </tr>\n",
       "    <tr>\n",
       "      <td>Input 8</td>\n",
       "      <td>0.687356</td>\n",
       "      <td>-0.488811</td>\n",
       "      <td>0.588904</td>\n",
       "      <td>0.727916</td>\n",
       "      <td>0.917741</td>\n",
       "      <td>0.775963</td>\n",
       "      <td>0.954663</td>\n",
       "      <td>1.000000</td>\n",
       "      <td>0.882597</td>\n",
       "      <td>0.812763</td>\n",
       "      <td>0.538514</td>\n",
       "      <td>-0.399113</td>\n",
       "    </tr>\n",
       "    <tr>\n",
       "      <td>Input 9</td>\n",
       "      <td>0.773260</td>\n",
       "      <td>-0.502784</td>\n",
       "      <td>0.676809</td>\n",
       "      <td>0.826244</td>\n",
       "      <td>0.977178</td>\n",
       "      <td>0.878146</td>\n",
       "      <td>0.881863</td>\n",
       "      <td>0.882597</td>\n",
       "      <td>1.000000</td>\n",
       "      <td>0.894913</td>\n",
       "      <td>0.754854</td>\n",
       "      <td>-0.288443</td>\n",
       "    </tr>\n",
       "    <tr>\n",
       "      <td>Input 10</td>\n",
       "      <td>0.730804</td>\n",
       "      <td>-0.469200</td>\n",
       "      <td>0.639960</td>\n",
       "      <td>0.795714</td>\n",
       "      <td>0.891651</td>\n",
       "      <td>0.829034</td>\n",
       "      <td>0.818400</td>\n",
       "      <td>0.812763</td>\n",
       "      <td>0.894913</td>\n",
       "      <td>1.000000</td>\n",
       "      <td>0.695695</td>\n",
       "      <td>-0.293095</td>\n",
       "    </tr>\n",
       "    <tr>\n",
       "      <td>Input 11</td>\n",
       "      <td>0.486260</td>\n",
       "      <td>-0.376060</td>\n",
       "      <td>0.422647</td>\n",
       "      <td>0.534825</td>\n",
       "      <td>0.693503</td>\n",
       "      <td>0.689591</td>\n",
       "      <td>0.524209</td>\n",
       "      <td>0.538514</td>\n",
       "      <td>0.754854</td>\n",
       "      <td>0.695695</td>\n",
       "      <td>1.000000</td>\n",
       "      <td>-0.011089</td>\n",
       "    </tr>\n",
       "    <tr>\n",
       "      <td>Input 12</td>\n",
       "      <td>-0.425539</td>\n",
       "      <td>0.135722</td>\n",
       "      <td>-0.407844</td>\n",
       "      <td>-0.367517</td>\n",
       "      <td>-0.346663</td>\n",
       "      <td>-0.418134</td>\n",
       "      <td>-0.435386</td>\n",
       "      <td>-0.399113</td>\n",
       "      <td>-0.288443</td>\n",
       "      <td>-0.293095</td>\n",
       "      <td>-0.011089</td>\n",
       "      <td>1.000000</td>\n",
       "    </tr>\n",
       "  </tbody>\n",
       "</table>\n",
       "</div>"
      ],
      "text/plain": [
       "            Input 1   Input 2   Input 3   Input 4   Input 5   Input 6  \\\n",
       "Input 1    1.000000 -0.572129  0.939954  0.950208  0.775150  0.894622   \n",
       "Input 2   -0.572129  1.000000 -0.523798 -0.542286 -0.474648 -0.662293   \n",
       "Input 3    0.939954 -0.523798  1.000000  0.893738  0.667783  0.823420   \n",
       "Input 4    0.950208 -0.542286  0.893738  1.000000  0.817663  0.877718   \n",
       "Input 5    0.775150 -0.474648  0.667783  0.817663  1.000000  0.870063   \n",
       "Input 6    0.894622 -0.662293  0.823420  0.877718  0.870063  1.000000   \n",
       "Input 7    0.700969 -0.468049  0.598575  0.728996  0.926586  0.780521   \n",
       "Input 8    0.687356 -0.488811  0.588904  0.727916  0.917741  0.775963   \n",
       "Input 9    0.773260 -0.502784  0.676809  0.826244  0.977178  0.878146   \n",
       "Input 10   0.730804 -0.469200  0.639960  0.795714  0.891651  0.829034   \n",
       "Input 11   0.486260 -0.376060  0.422647  0.534825  0.693503  0.689591   \n",
       "Input 12  -0.425539  0.135722 -0.407844 -0.367517 -0.346663 -0.418134   \n",
       "\n",
       "            Input 7   Input 8   Input 9  Input 10   Input 11   Input 12  \n",
       "Input 1    0.700969  0.687356  0.773260   0.730804   0.486260 -0.425539  \n",
       "Input 2   -0.468049 -0.488811 -0.502784  -0.469200  -0.376060  0.135722  \n",
       "Input 3    0.598575  0.588904  0.676809   0.639960   0.422647 -0.407844  \n",
       "Input 4    0.728996  0.727916  0.826244   0.795714   0.534825 -0.367517  \n",
       "Input 5    0.926586  0.917741  0.977178   0.891651   0.693503 -0.346663  \n",
       "Input 6    0.780521  0.775963  0.878146   0.829034   0.689591 -0.418134  \n",
       "Input 7    1.000000  0.954663  0.881863   0.818400   0.524209 -0.435386  \n",
       "Input 8    0.954663  1.000000  0.882597   0.812763   0.538514 -0.399113  \n",
       "Input 9    0.881863  0.882597  1.000000   0.894913   0.754854 -0.288443  \n",
       "Input 10   0.818400  0.812763  0.894913   1.000000   0.695695 -0.293095  \n",
       "Input 11   0.524209  0.538514  0.754854   0.695695   1.000000 -0.011089  \n",
       "Input 12  -0.435386 -0.399113 -0.288443  -0.293095  -0.011089  1.000000  "
      ]
     },
     "execution_count": 96,
     "metadata": {},
     "output_type": "execute_result"
    }
   ],
   "source": [
    "data.corr()"
   ]
  },
  {
   "cell_type": "markdown",
   "metadata": {},
   "source": [
    "<p>The greatest correlation as determined by the Pandas correlation method is between <em>Input 5</em> and <em>Input 9</em> with the value 0.977178</p>"
   ]
  },
  {
   "cell_type": "markdown",
   "metadata": {},
   "source": [
    "<h3 style = \"color:green\">Data Visualization</h3>\n",
    "\n",
    "\n",
    "<p><strong>6) TO DO: Plot bar charts using pandas dataframe (plot the mean value of the sensors)</strong></p>"
   ]
  },
  {
   "cell_type": "code",
   "execution_count": 97,
   "metadata": {},
   "outputs": [
    {
     "data": {
      "text/plain": [
       "Text(0.5, 1.0, 'Mean Values of the Sensors')"
      ]
     },
     "execution_count": 97,
     "metadata": {},
     "output_type": "execute_result"
    },
    {
     "data": {
      "image/png": "[encoded data removed]",
      "text/plain": [
       "<Figure size 432x288 with 1 Axes>"
      ]
     },
     "metadata": {
      "needs_background": "light"
     },
     "output_type": "display_data"
    }
   ],
   "source": [
    "df_means = data.mean(axis=0)\n",
    "\n",
    "\n",
    "df_means.plot.bar()\n",
    "plt.title('Mean Values of the Sensors')"
   ]
  },
  {
   "cell_type": "markdown",
   "metadata": {},
   "source": [
    "<h3 style = \"color:green\">Data Processing</h3>\n",
    "\n",
    "\n",
    "<p><strong>7) TO DO: Create Feature Matrix and Target Vector</strong></p>\n",
    "\n",
    "<p><strong>\"Features\"</strong> are also known as predictors, inputs, or attributes. The <strong>\"response\"</strong> is also known as the target, label, or output.</p>\n",
    "\n",
    "<h4 style = \"color:orange\">Complete in cell below</h4>"
   ]
  },
  {
   "cell_type": "code",
   "execution_count": 98,
   "metadata": {},
   "outputs": [
    {
     "data": {
      "text/plain": [
       "(1463,)"
      ]
     },
     "execution_count": 98,
     "metadata": {},
     "output_type": "execute_result"
    }
   ],
   "source": [
    "y = data.iloc[:, 12].values                        # for their corresponding y values\n",
    "y.shape"
   ]
  },
  {
   "cell_type": "code",
   "execution_count": 99,
   "metadata": {},
   "outputs": [
    {
     "data": {
      "text/plain": [
       "(1463, 2)"
      ]
     },
     "execution_count": 99,
     "metadata": {},
     "output_type": "execute_result"
    }
   ],
   "source": [
    "X = data.iloc[:,[4,8]]\n",
    "X.shape"
   ]
  },
  {
   "cell_type": "markdown",
   "metadata": {},
   "source": [
    "<p><strong>8) TO DO: Convert the features dataframe to a NumPy array.</strong></p>\n",
    "\n",
    "<h4 style = \"color:orange\">Complete in cell below</h4>"
   ]
  },
  {
   "cell_type": "code",
   "execution_count": 100,
   "metadata": {},
   "outputs": [],
   "source": [
    "X = np.array(X)"
   ]
  },
  {
   "cell_type": "markdown",
   "metadata": {},
   "source": [
    "<p><strong>9) TO DO: Label Encoding</strong></p>\n",
    "\n",
    "<p>Transform the categorical labels into integers using the scikit-learn label encoder</p>\n",
    "\n",
    "<h4>Enter your code in the cell below</h4>"
   ]
  },
  {
   "cell_type": "code",
   "execution_count": 101,
   "metadata": {},
   "outputs": [
    {
     "name": "stdout",
     "output_type": "stream",
     "text": [
      "Class labels of y_train: ['one' 'three' 'two']\n"
     ]
    }
   ],
   "source": [
    "np.where(y == 'one', 'one', \n",
    "         (np.where(y ==  'two', 'two', 'three')))\n",
    "\n",
    "print('Class labels of y_train:', np.unique(y))"
   ]
  },
  {
   "cell_type": "markdown",
   "metadata": {},
   "source": [
    "<p><strong>10) TO DO: Split the data into Training and Testing Sets</strong></p>\n",
    "\n",
    "<p>Scikit learn contains a function called the <strong>train_test_split</strong> function that will randomly shuffle the dataset and then splits it into two datasets: a <strong>training set</strong> used to build the model and a <strong>test</strong> set to assess and evaluate how well the model works on unseen data (alsocalled out-of=sample data).</p>\n",
    "\n",
    "<p><strong>Use a 80% / 20% train/test split for this project.</strong>\n",
    "\n",
    "NOTE: You <strong>must</strong> use the encoded class labels in this part</p>\n",
    "\n",
    "<h4>Enter your code in the cell below</h4>"
   ]
  },
  {
   "cell_type": "code",
   "execution_count": 102,
   "metadata": {},
   "outputs": [],
   "source": [
    "from sklearn.model_selection import train_test_split\n",
    "\n",
    "# test size = 0.2 means 20% of data\n",
    "X_train, X_test, y_train, y_test = train_test_split(\n",
    "        X, y, test_size=0.2, random_state=123)"
   ]
  },
  {
   "cell_type": "markdown",
   "metadata": {},
   "source": [
    "<p><strong>11) TO DO: Look at the shape of the data (rows and columns) after splitting it into training and testing sets</strong></p>\n",
    "\n",
    "<h4>Enter your code in the next TWO cells below</h4>"
   ]
  },
  {
   "cell_type": "code",
   "execution_count": 103,
   "metadata": {},
   "outputs": [
    {
     "name": "stdout",
     "output_type": "stream",
     "text": [
      "The X training dataset shape is (1170, 2)\n",
      "The y training dataset shape is (1170,)\n"
     ]
    }
   ],
   "source": [
    "print('The X training dataset shape is {}'.format(X_train.shape))\n",
    "\n",
    "print('The y training dataset shape is {}'.format(y_train.shape))"
   ]
  },
  {
   "cell_type": "code",
   "execution_count": 104,
   "metadata": {},
   "outputs": [
    {
     "name": "stdout",
     "output_type": "stream",
     "text": [
      "The X test dataset shape is (293, 2)\n",
      "The y test dataset shape is (293,)\n"
     ]
    }
   ],
   "source": [
    "print('The X test dataset shape is {}'.format(X_test.shape))\n",
    "\n",
    "print('The y test dataset shape is {}'.format(y_test.shape))"
   ]
  },
  {
   "cell_type": "markdown",
   "metadata": {},
   "source": [
    "<h3 style = \"color:green\">Scale the Data</h3>\n",
    "\n",
    "<h3 style = \"color:red\">IMPORTANT: Standardizing the features:</h3>\n",
    "\n",
    "\n",
    "\n",
    "<p>Standardization of datasets (feature scaling) is a common requirement for many machine learning and optimization algorithms implemented in scikit-learn; they might behave badly if the individual features do not more or less look like standard normally distributed data, i.e., Gaussian with zero mean and unit variance.</p>\n",
    "\n",
    "<p><strong>12) TO DO: Let's use the StandarScaler from Scikit-learn to transform (scale) our feature</strong></p>\n",
    "\n",
    "<h4>Enter your code in the cell below</h4>"
   ]
  },
  {
   "cell_type": "code",
   "execution_count": 105,
   "metadata": {},
   "outputs": [],
   "source": [
    "from sklearn.preprocessing import StandardScaler\n",
    "\n",
    "sc = StandardScaler()\n",
    "sc.fit(X_train)\n",
    "X_train_std = sc.transform(X_train)\n",
    "X_test_std = sc.transform(X_test)"
   ]
  },
  {
   "cell_type": "markdown",
   "metadata": {},
   "source": [
    "<h4>Comments on code above</h4>\n",
    "<ul>\n",
    "    <li>Using the preceding code, we loaded the StandardScaler class from the preprocessing module and initialized a new StandardScalerobject that we assigned to the variable sc.</li>\n",
    "    <li>Using the fit method, StandardScaler estimated the parameters μ (sample mean) and  (standard deviation) for each featuredimension from the training data.</li>\n",
    "    <li>By calling the transform method, we then standardized the training data using those estimated parameters μ and 𝜎.</li>\n",
    "    <li>Note that we used the same scaling parameters to standardize the test set so that both the values in the training and test dataset arecomparable to each other.</li>\n",
    "</ul>\n",
    "\n",
    "<h4>IMPORTANT: So from this point forward you must use the scaled training and testing data</h4>\n",
    "\n",
    "<h2 style = \"color:green\">Model Building</h2>\n",
    "\n",
    "<h3>Train multiple Machine Learning models during same session. You will use the three algorithmsfrom previous labs.</h3>\n",
    "\n",
    "<ol>\n",
    "    <li>K-Nearest Neighbor (with K=10, K=100, K=200)</li>\n",
    "    <li>Logistic Regression</li>\n",
    "    <li>Linear Support Vector Classifier</li>\n",
    "</ol>\n",
    "\n",
    "<p>During the evaluation phase you must predict class member propbabilities and comment on what they mean.This means that scikit-learn’s linear support vector classifier cannot be used for those prodictions since this model does not have a method to predict classmembership probabilities, but like the other models, it does have the same predict method.</p>\n",
    "\n",
    "<ul>\n",
    "    <li>You MUST properly use model evaluation metrics (accuracy, confusion matrix, etc.)</li>\n",
    "    <li>Two of your models (KNN and Logistic Regression MUST predict class membership probabilities and associated class label names</li>\n",
    "</ul>\n",
    "\n",
    "<h3 style = \"color:green\">Build a KNN Classification Model for K = 10, 100 and 200</h3>\n",
    "\n",
    "<p><strong>13) TO DO: In the sections below you should build and train the actual machine learningmodel.</strong></p>\n",
    "\n",
    "<p><strong>In the cell below: enter the code to import, instantiate, fit, predict and test the model's performance (accuracy) for the K-NearestNeighbor Model in SciKit-Learn for K= 10, 100 and 200.</strong> This should be completed in ONE cell using a loop, etc.</p>"
   ]
  },
  {
   "cell_type": "code",
   "execution_count": 106,
   "metadata": {},
   "outputs": [
    {
     "name": "stdout",
     "output_type": "stream",
     "text": [
      "KNeighborsClassifier(algorithm='auto', leaf_size=30, metric='minkowski',\n",
      "                     metric_params=None, n_jobs=None, n_neighbors=10, p=2,\n",
      "                     weights='uniform')\n",
      "Test Accuracy (using knn.score()) for k = 10 is:0.83\n",
      "KNeighborsClassifier(algorithm='auto', leaf_size=30, metric='minkowski',\n",
      "                     metric_params=None, n_jobs=None, n_neighbors=100, p=2,\n",
      "                     weights='uniform')\n",
      "Test Accuracy (using knn.score()) for k = 100 is:0.79\n",
      "KNeighborsClassifier(algorithm='auto', leaf_size=30, metric='minkowski',\n",
      "                     metric_params=None, n_jobs=None, n_neighbors=200, p=2,\n",
      "                     weights='uniform')\n",
      "Test Accuracy (using knn.score()) for k = 200 is:0.70\n"
     ]
    }
   ],
   "source": [
    "from sklearn.neighbors import KNeighborsClassifier\n",
    "\n",
    "for k in [10,100,200]:\n",
    "    knn = KNeighborsClassifier(n_neighbors=k)\n",
    "    print(knn)\n",
    "    knn.fit(X_train, y_train)\n",
    "    \n",
    "    \n",
    "    print(\"Test Accuracy (using knn.score()) for k = {0} is:{1:0.2f}\".format(k, knn.score(X_test, y_test)))"
   ]
  },
  {
   "cell_type": "markdown",
   "metadata": {},
   "source": [
    "<h4>Predicting class-membership probabilites</h4>\n",
    "\n",
    "<p>Scikit-Learn has a method that allows prediction of class member probabilities.</p>\n",
    "\n",
    "<ul>\n",
    "    <li>The probability that training examples belong to a certain class can be computed using the <strong>predict_proba</strong> method. For example, we can predict the probabilities of the first three samples in the test set as follows (NOTE: X_test_std[:3. :] means get the first 3 rows and the associated columns from the test dataset X_test):</li>\n",
    "</ul>\n",
    "\n",
    "<img src = \"images/proba_eq.jpg\" style = \"align:center\">\n",
    "\n",
    "<p>In the cells below, your must predict the <strong>class-membership probabilities</strong> for each specified <strong>SINGLE ROW OF DATA</strong>. Also, you should recall that the label encoding that we implemented earlier resulted in the mapping:</p>\n",
    "\n",
    "<p><strong>class membership label indices after encoding</strong></p>\n",
    "\n",
    "<ul>\n",
    "    <li>0 = 'one' (the Substance is Substance 1)</li>\n",
    "    <li>1 = 'three' (false alarm)</li>\n",
    "    <li>2 = 'two' (The Substance is Substance 2)</li>\n",
    "</ul>\n",
    "\n",
    "<p><strong>14) TO DO:class-membership probability</strong></p>\n",
    "\n",
    "<p>Predict the class membership probability by using the a row with <strong>index = 10</strong> from the X_test_std data. Make sure your print statement uses a complete sentence and be sure to compare your prediction with the correct answer using the corresponding row from the test set labels, y_test.</p>\n",
    "\n",
    "<p><strong>Enter your code in the cell below.</strong></p>"
   ]
  },
  {
   "cell_type": "markdown",
   "metadata": {},
   "source": [
    "<h1>ISSUES BEGIN HERE!!@#@!#$!@#$!@#$!@#</h1>"
   ]
  },
  {
   "cell_type": "code",
   "execution_count": 107,
   "metadata": {
    "scrolled": true
   },
   "outputs": [
    {
     "name": "stdout",
     "output_type": "stream",
     "text": [
      "The predicted class is ['one']\n",
      "The actual class is two\n"
     ]
    }
   ],
   "source": [
    "print('The predicted class is {0}'.format(knn.predict(X_test_std[[10]])))\n",
    "print('The actual class is {0}'.format(y_test[10]))"
   ]
  },
  {
   "cell_type": "markdown",
   "metadata": {},
   "source": [
    "<p><strong>15) TO DO:class-membership probability</strong></p>\n",
    "\n",
    "<p>Predict the class membership probability by using the a row with <strong>index = 125</strong> from the X_test_std data. Make sure your print statement uses a complete sentence and be sure to compare your prediction with the correct answer using the corresponding row from the test set labels, y_test.</p>\n",
    "\n",
    "<p><strong>Enter your code in the cell below.</strong></p>"
   ]
  },
  {
   "cell_type": "code",
   "execution_count": 108,
   "metadata": {},
   "outputs": [
    {
     "name": "stdout",
     "output_type": "stream",
     "text": [
      "The predicted class is ['one']\n",
      "The actual class is two\n"
     ]
    }
   ],
   "source": [
    "print('The predicted class is {}'.format(knn.predict(X_test_std[[125]])))\n",
    "print('The actual class is {}'.format(y_test[125]))"
   ]
  },
  {
   "cell_type": "markdown",
   "metadata": {},
   "source": [
    "<p><strong>16) TO DO:class-membership probability</strong></p>\n",
    "\n",
    "<p>Predict the class membership probability by using the a row with <strong>index = 200</strong> from the X_test_std data. Make sure your print statement uses a complete sentence and be sure to compare your prediction with the correct answer using the corresponding row from the test set labels, y_test.</p>\n",
    "\n",
    "<p><strong>Enter your code in the cell below.</strong></p>"
   ]
  },
  {
   "cell_type": "code",
   "execution_count": 109,
   "metadata": {
    "scrolled": true
   },
   "outputs": [
    {
     "name": "stdout",
     "output_type": "stream",
     "text": [
      "The predicted class is ['one']\n",
      "The actual class is two\n"
     ]
    }
   ],
   "source": [
    "print('The predicted class is {}'.format(knn.predict(X_test_std[[200]])))\n",
    "print('The actual class is {}'.format(y_test[200]))"
   ]
  },
  {
   "cell_type": "markdown",
   "metadata": {},
   "source": [
    "<h1>ISSUES ABOVE HERE!@#$!@#$!@#$!@#$!@$#</h1>"
   ]
  },
  {
   "cell_type": "markdown",
   "metadata": {},
   "source": [
    "<h3 style = \"color:green\">Build Logistic Regression Model</h3>\n",
    "\n",
    "<p><strong>17) TO DO: scikit-learn Logistic Regression for this lab</strong></p>\n",
    "\n",
    "<p><strong>Import and instantiate the Logistic Regression Model in SciKit-Learn is in the cell below</strong></p>"
   ]
  },
  {
   "cell_type": "code",
   "execution_count": 118,
   "metadata": {},
   "outputs": [],
   "source": [
    "from sklearn.linear_model import LogisticRegression\n",
    "\n",
    "lr = LogisticRegression(solver='newton-cg',\n",
    "                       multi_class='multinomial',\n",
    "                       random_state=0)"
   ]
  },
  {
   "cell_type": "markdown",
   "metadata": {},
   "source": [
    "<p><strong>18) TO DO: Train the model by calling the model's fit function</strong></p>\n",
    "\n",
    "<p>Now that the model has been instantiated (created) it still needs to be trained (fitted) to the training dataset. <strong>Enter your code below to fit the model to the training dataset</strong></p>"
   ]
  },
  {
   "cell_type": "code",
   "execution_count": 121,
   "metadata": {},
   "outputs": [
    {
     "data": {
      "text/plain": [
       "LogisticRegression(C=1.0, class_weight=None, dual=False, fit_intercept=True,\n",
       "                   intercept_scaling=1, l1_ratio=None, max_iter=100,\n",
       "                   multi_class='multinomial', n_jobs=None, penalty='l2',\n",
       "                   random_state=0, solver='newton-cg', tol=0.0001, verbose=0,\n",
       "                   warm_start=False)"
      ]
     },
     "execution_count": 121,
     "metadata": {},
     "output_type": "execute_result"
    }
   ],
   "source": [
    "lr.fit(X_train, y_train)"
   ]
  },
  {
   "cell_type": "markdown",
   "metadata": {},
   "source": [
    "<p><strong>19) TO DO: Evaluate the Logistic Regression Model</strong></p>\n",
    "\n",
    "<p>Use the test set to create the model's predictions. Name the prediction vector <strong>y_pred</strong> as in previous notebooks.</p>\n",
    "\n",
    "<p><strong>Enter your code in the cell below:</strong></p>"
   ]
  },
  {
   "cell_type": "code",
   "execution_count": 122,
   "metadata": {},
   "outputs": [],
   "source": [
    "y_pred = lr.predict(X_test)"
   ]
  },
  {
   "cell_type": "markdown",
   "metadata": {},
   "source": [
    "<p><strong>20) TO DO: Evaluate the Logistic Regression Model's Performance</strong></p>\n",
    "\n",
    "<p>Use SciKit Learn's built-in scoring method to evaluate the model's performance accuracy.</p>\n",
    "\n",
    "<p><strong>Enter your code below:</strong></p>"
   ]
  },
  {
   "cell_type": "code",
   "execution_count": 123,
   "metadata": {},
   "outputs": [
    {
     "name": "stdout",
     "output_type": "stream",
     "text": [
      "\n",
      "Test set accuracy: 55.97%\n"
     ]
    }
   ],
   "source": [
    "print('\\nTest set accuracy: {0:0.2f}%'.format(100*lr.score(X_test, y_test)))"
   ]
  },
  {
   "cell_type": "markdown",
   "metadata": {},
   "source": [
    "<h3 style = \"color:green\">Predicting class-membership probabilities using the Logistic Regression Model</h3>\n",
    "\n",
    "<p><strong>21) TO DO:class-membership probability</strong></p>\n",
    "\n",
    "<p>Predict the class membership probability by using the a row with <strong>index = 10</strong> from the X_test_std data. Make sure your print statement uses a complete sentence and be sure to compare your prediction with the correct answer using the corresponding row from the test set labels, y_test.</p>\n",
    "\n",
    "<p><strong>Enter your code in the cell below.</strong></p>"
   ]
  },
  {
   "cell_type": "code",
   "execution_count": 126,
   "metadata": {},
   "outputs": [
    {
     "data": {
      "text/plain": [
       "array([[0.54 , 0.011, 0.45 ]])"
      ]
     },
     "execution_count": 126,
     "metadata": {},
     "output_type": "execute_result"
    }
   ],
   "source": [
    "lr.predict_proba(X_test_std[[10]])"
   ]
  },
  {
   "cell_type": "markdown",
   "metadata": {},
   "source": [
    "<p><strong>22) TO DO:class-membership probability</strong></p>\n",
    "\n",
    "<p>Predict the class membership probability by using the a row with <strong>index = 120</strong> from the X_test_std data. Make sure your print statement uses a complete sentence and be sure to compare your prediction with the correct answer using the corresponding row from the test set labels, y_test.</p>\n",
    "\n",
    "<p><strong>Enter your code in the cell below.</strong></p>"
   ]
  },
  {
   "cell_type": "code",
   "execution_count": null,
   "metadata": {},
   "outputs": [],
   "source": []
  },
  {
   "cell_type": "markdown",
   "metadata": {},
   "source": [
    "<p><strong>23) TO DO:class-membership probability</strong></p>\n",
    "\n",
    "<p>Predict the class membership probability by using the a row with <strong>index = 200</strong> from the X_test_std data. Make sure your print statement uses a complete sentence and be sure to compare your prediction with the correct answer using the corresponding row from the test set labels, y_test.</p>\n",
    "\n",
    "<p><strong>Enter your code in the cell below.</strong></p>"
   ]
  },
  {
   "cell_type": "code",
   "execution_count": null,
   "metadata": {},
   "outputs": [],
   "source": []
  }
 ],
 "metadata": {
  "kernelspec": {
   "display_name": "Python 3",
   "language": "python",
   "name": "python3"
  },
  "language_info": {
   "codemirror_mode": {
    "name": "ipython",
    "version": 3
   },
   "file_extension": ".py",
   "mimetype": "text/x-python",
   "name": "python",
   "nbconvert_exporter": "python",
   "pygments_lexer": "ipython3",
   "version": "3.7.4"
  }
 },
 "nbformat": 4,
 "nbformat_minor": 2
}
